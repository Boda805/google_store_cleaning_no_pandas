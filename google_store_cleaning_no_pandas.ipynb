{
 "cells": [
  {
   "cell_type": "markdown",
   "metadata": {},
   "source": [
    "Data Analysis Project\n",
    "Looking at some sample data"
   ]
  },
  {
   "cell_type": "code",
   "execution_count": 21,
   "metadata": {
    "collapsed": false
   },
   "outputs": [],
   "source": [
    "from csv import reader\n",
    "\n",
    "open_data = open('googleplaystore.csv')\n",
    "read_data = reader(open_data)\n",
    "google_store = list(read_data)\n",
    "\n",
    "google_header = google_store[0]"
   ]
  },
  {
   "cell_type": "markdown",
   "metadata": {},
   "source": [
    "Below is a useful function for looking through the data to get a snapshot of it."
   ]
  },
  {
   "cell_type": "code",
   "execution_count": 5,
   "metadata": {
    "collapsed": true
   },
   "outputs": [],
   "source": [
    "def explore_data(dataset, start, end, rows_and_columns=False):\n",
    "    dataset_slice = dataset[start:end]    \n",
    "    for row in dataset_slice:\n",
    "        print(row)\n",
    "        print('\\n') # adds a new (empty) line after each row\n",
    "\n",
    "    if rows_and_columns:\n",
    "        print('Number of rows:', len(dataset))\n",
    "        print('Number of columns:', len(dataset[0]))"
   ]
  },
  {
   "cell_type": "code",
   "execution_count": 19,
   "metadata": {
    "collapsed": false
   },
   "outputs": [
    {
     "name": "stdout",
     "output_type": "stream",
     "text": [
      "['App', 'Category', 'Rating', 'Reviews', 'Size', 'Installs', 'Type', 'Price', 'Content Rating', 'Genres', 'Last Updated', 'Current Ver', 'Android Ver']\n",
      "\n",
      "\n",
      "['Photo Editor & Candy Camera & Grid & ScrapBook', 'ART_AND_DESIGN', '4.1', '159', '19M', '10,000+', 'Free', '0', 'Everyone', 'Art & Design', 'January 7, 2018', '1.0.0', '4.0.3 and up']\n",
      "\n",
      "\n",
      "['Coloring book moana', 'ART_AND_DESIGN', '3.9', '967', '14M', '500,000+', 'Free', '0', 'Everyone', 'Art & Design;Pretend Play', 'January 15, 2018', '2.0.0', '4.0.3 and up']\n",
      "\n",
      "\n",
      "['U Launcher Lite – FREE Live Cool Themes, Hide Apps', 'ART_AND_DESIGN', '4.7', '87510', '8.7M', '5,000,000+', 'Free', '0', 'Everyone', 'Art & Design', 'August 1, 2018', '1.2.4', '4.0.3 and up']\n",
      "\n",
      "\n",
      "['Sketch - Draw & Paint', 'ART_AND_DESIGN', '4.5', '215644', '25M', '50,000,000+', 'Free', '0', 'Teen', 'Art & Design', 'June 8, 2018', 'Varies with device', '4.2 and up']\n",
      "\n",
      "\n",
      "Number of rows: 10842\n",
      "Number of columns: 13\n"
     ]
    }
   ],
   "source": [
    "explore_data(google_store,0,5, rows_and_columns=True)"
   ]
  },
  {
   "cell_type": "markdown",
   "metadata": {},
   "source": [
    "The cell below was useful to see if we had any duplicate entries. Which were prevelant within the dataset."
   ]
  },
  {
   "cell_type": "code",
   "execution_count": 6,
   "metadata": {
    "collapsed": false
   },
   "outputs": [
    {
     "data": {
      "text/plain": [
       "1181"
      ]
     },
     "execution_count": 6,
     "metadata": {},
     "output_type": "execute_result"
    }
   ],
   "source": [
    "unique_entries = []\n",
    "duplicate_entries = []\n",
    "\n",
    "for entries in google_store:\n",
    "    name = entries[0]\n",
    "    if name in unique_entries:\n",
    "        duplicate_entries.append(name)\n",
    "    unique_entries.append(name)\n",
    "    \n",
    "len(duplicate_entries)"
   ]
  },
  {
   "cell_type": "markdown",
   "metadata": {},
   "source": [
    "The two cells below were used to clean the data. Instead of deleting the duplicates randomly, I kept the entries with the highest amount of reviews. With a final clean list  put together named 'android_clean'. The header was also taken out."
   ]
  },
  {
   "cell_type": "code",
   "execution_count": 7,
   "metadata": {
    "collapsed": false,
    "scrolled": true
   },
   "outputs": [],
   "source": [
    "reviews_max = {}\n",
    "\n",
    "for app in google_store[1:]:\n",
    "    name = app[0]\n",
    "    n_reviews = float(app[2])\n",
    "    if name in reviews_max and reviews_max[name] < n_reviews:\n",
    "        reviews_max[name] = n_reviews\n",
    "    elif name not in reviews_max:\n",
    "        reviews_max[name] = n_reviews     "
   ]
  },
  {
   "cell_type": "code",
   "execution_count": 8,
   "metadata": {
    "collapsed": true
   },
   "outputs": [],
   "source": [
    "android_clean = []\n",
    "already_added = []\n",
    "\n",
    "for app in google_store[1:]:\n",
    "    name = app[0]\n",
    "    n_reviews = float(app[2])\n",
    "    if n_reviews == reviews_max[name] and name not in already_added:\n",
    "        android_clean.append(app)\n",
    "        already_added.append(name)"
   ]
  },
  {
   "cell_type": "markdown",
   "metadata": {},
   "source": [
    "I also took out the Non-English entries as well as taking out the paid apps, as this analysis will focus on the free apps."
   ]
  },
  {
   "cell_type": "code",
   "execution_count": 9,
   "metadata": {
    "collapsed": false
   },
   "outputs": [],
   "source": [
    "def english_test(string):\n",
    "    restricted_char = 0\n",
    "    for characters in string:\n",
    "        if ord(characters) < 127:\n",
    "            pass\n",
    "        else:\n",
    "            restricted_char += 1\n",
    "    if restricted_char > 3:\n",
    "        return False\n",
    "    else:\n",
    "        return True"
   ]
  },
  {
   "cell_type": "code",
   "execution_count": 10,
   "metadata": {
    "collapsed": false
   },
   "outputs": [],
   "source": [
    "android_english = []\n",
    "\n",
    "for entries in android_clean:\n",
    "    if english_test(entries[0]):\n",
    "        android_english.append(entries)"
   ]
  },
  {
   "cell_type": "code",
   "execution_count": 11,
   "metadata": {
    "collapsed": false
   },
   "outputs": [],
   "source": [
    "android_free_final = []\n",
    "\n",
    "for entries in android_english:\n",
    "    if entries[7] == '0':\n",
    "        android_free_final.append(entries)"
   ]
  },
  {
   "cell_type": "markdown",
   "metadata": {},
   "source": [
    "Now that the data is properly cleaned, proper analysis can now be done. The first function below creates a frequency table for any index that we want to look at, and the second puts it into a more friendly format."
   ]
  },
  {
   "cell_type": "code",
   "execution_count": 12,
   "metadata": {
    "collapsed": true
   },
   "outputs": [],
   "source": [
    "def freq_table(dataset, index):\n",
    "    freq_dict = {}\n",
    "    for values in dataset:\n",
    "        if values[index] in freq_dict:\n",
    "            freq_dict[values[index]] += 1\n",
    "        else:\n",
    "            freq_dict[values[index]] = 1\n",
    "    return freq_dict"
   ]
  },
  {
   "cell_type": "code",
   "execution_count": 13,
   "metadata": {
    "collapsed": false
   },
   "outputs": [],
   "source": [
    "def display_table(dataset, index):\n",
    "    table = freq_table(dataset, index)\n",
    "    table_display = []\n",
    "    for key in table:\n",
    "        key_val_as_tuple = (table[key], key)\n",
    "        table_display.append(key_val_as_tuple)\n",
    "\n",
    "    table_sorted = sorted(table_display, reverse = True)\n",
    "    for entry in table_sorted:\n",
    "        print(entry[1], ':', entry[0])"
   ]
  },
  {
   "cell_type": "code",
   "execution_count": 15,
   "metadata": {
    "collapsed": false
   },
   "outputs": [
    {
     "name": "stdout",
     "output_type": "stream",
     "text": [
      "FAMILY : 1443\n",
      "GAME : 835\n",
      "TOOLS : 656\n",
      "FINANCE : 289\n",
      "PRODUCTIVITY : 282\n",
      "LIFESTYLE : 279\n",
      "BUSINESS : 253\n",
      "PHOTOGRAPHY : 248\n",
      "SPORTS : 238\n",
      "COMMUNICATION : 234\n",
      "PERSONALIZATION : 233\n",
      "HEALTH_AND_FITNESS : 232\n",
      "MEDICAL : 228\n",
      "SOCIAL : 201\n",
      "NEWS_AND_MAGAZINES : 198\n",
      "TRAVEL_AND_LOCAL : 179\n",
      "SHOPPING : 178\n",
      "BOOKS_AND_REFERENCE : 159\n",
      "VIDEO_PLAYERS : 144\n",
      "DATING : 131\n",
      "EDUCATION : 113\n",
      "MAPS_AND_NAVIGATION : 112\n",
      "ENTERTAINMENT : 100\n",
      "FOOD_AND_DRINK : 92\n",
      "AUTO_AND_VEHICLES : 72\n",
      "WEATHER : 65\n",
      "LIBRARIES_AND_DEMO : 64\n",
      "HOUSE_AND_HOME : 62\n",
      "ART_AND_DESIGN : 57\n",
      "COMICS : 53\n",
      "PARENTING : 48\n",
      "EVENTS : 45\n",
      "BEAUTY : 42\n"
     ]
    }
   ],
   "source": [
    "display_table(android_free_final, 1)"
   ]
  }
 ],
 "metadata": {
  "kernelspec": {
   "display_name": "Python 3",
   "language": "python",
   "name": "python3"
  },
  "language_info": {
   "codemirror_mode": {
    "name": "ipython",
    "version": 3
   },
   "file_extension": ".py",
   "mimetype": "text/x-python",
   "name": "python",
   "nbconvert_exporter": "python",
   "pygments_lexer": "ipython3",
   "version": "3.4.3"
  }
 },
 "nbformat": 4,
 "nbformat_minor": 2
}
